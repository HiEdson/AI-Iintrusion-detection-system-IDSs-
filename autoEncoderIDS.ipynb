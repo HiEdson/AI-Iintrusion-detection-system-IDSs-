{
  "nbformat": 4,
  "nbformat_minor": 0,
  "metadata": {
    "colab": {
      "name": "autoEncoderIDS.ipynb",
      "provenance": [],
      "collapsed_sections": []
    },
    "kernelspec": {
      "name": "python3",
      "display_name": "Python 3"
    },
    "language_info": {
      "name": "python"
    },
    "accelerator": "TPU"
  },
  "cells": [
    {
      "cell_type": "markdown",
      "source": [
        "dataset from https://github.com/icsdataset/hai/tree/master/hai-21.03\n",
        "\n",
        "The objective is to detect anomalies in the intrusion detection system (IDSs) in industrial facilities. In this exercise, the autoencoder learns to identify normal data coming from the SCADA automation system and is then tested on information containing hacker attacks acquired during the operation of those industrial facilities.\n",
        "\n",
        "**THIS CODE WAS WRITTEN BY EDSON CASIMIRO**"
      ],
      "metadata": {
        "id": "IxqGFE1GqARN"
      }
    },
    {
      "cell_type": "code",
      "source": [
        "#IMPORT LIBRARIES\n",
        "import matplotlib.pyplot as plt\n",
        "import pandas as pd\n",
        "import numpy as np\n",
        "from keras.models import Sequential, Model\n",
        "from keras.layers import Dense\n",
        "from keras.metrics import Accuracy\n",
        "import tensorflow as tf\n",
        "from sklearn.metrics import accuracy_score, precision_score, recall_score\n",
        "from sklearn.preprocessing import MinMaxScaler\n",
        "# from tensorflow.keras import layers, losses\n"
      ],
      "metadata": {
        "id": "0y0fHol4CuOz"
      },
      "execution_count": null,
      "outputs": []
    },
    {
      "cell_type": "code",
      "source": [
        "import gzip\n",
        "import shutil\n",
        "with gzip.open('/content/drive/MyDrive/train1.csv.gz', 'rb') as f_in:\n",
        "    with open('/content/drive/MyDrive/file.txt', 'wb') as f_out:\n",
        "        shutil.copyfileobj(f_in, f_out)\n",
        "\n",
        "with gzip.open('/content/drive/MyDrive/test1.csv.gz', 'rb') as f_in:\n",
        "    with open('/content/drive/MyDrive/testFile.txt', 'wb') as f_out:\n",
        "        shutil.copyfileobj(f_in, f_out)"
      ],
      "metadata": {
        "id": "e7VflvgeCkvd"
      },
      "execution_count": null,
      "outputs": []
    },
    {
      "cell_type": "code",
      "source": [
        "dataframe =  pd.read_csv('/content/drive/MyDrive/file.txt')\n",
        "raw_data = dataframe.values\n",
        "dataframe.head()\n",
        "#test\n",
        "testFrame =  pd.read_csv('/content/drive/MyDrive/testFile.txt')\n",
        "test_raw_data = testFrame.values\n",
        "testFrame.head()"
      ],
      "metadata": {
        "colab": {
          "base_uri": "https://localhost:8080/",
          "height": 473
        },
        "id": "sRsN1VsvJPQa",
        "outputId": "c3995273-0886-42a3-eece-59f41323d2a1"
      },
      "execution_count": null,
      "outputs": [
        {
          "output_type": "execute_result",
          "data": {
            "text/html": [
              "\n",
              "  <div id=\"df-01f92473-fcc1-4e6b-92ec-3bc6c44a143f\">\n",
              "    <div class=\"colab-df-container\">\n",
              "      <div>\n",
              "<style scoped>\n",
              "    .dataframe tbody tr th:only-of-type {\n",
              "        vertical-align: middle;\n",
              "    }\n",
              "\n",
              "    .dataframe tbody tr th {\n",
              "        vertical-align: top;\n",
              "    }\n",
              "\n",
              "    .dataframe thead th {\n",
              "        text-align: right;\n",
              "    }\n",
              "</style>\n",
              "<table border=\"1\" class=\"dataframe\">\n",
              "  <thead>\n",
              "    <tr style=\"text-align: right;\">\n",
              "      <th></th>\n",
              "      <th>time</th>\n",
              "      <th>P1_B2004</th>\n",
              "      <th>P1_B2016</th>\n",
              "      <th>P1_B3004</th>\n",
              "      <th>P1_B3005</th>\n",
              "      <th>P1_B4002</th>\n",
              "      <th>P1_B4005</th>\n",
              "      <th>P1_B400B</th>\n",
              "      <th>P1_B4022</th>\n",
              "      <th>P1_FCV01D</th>\n",
              "      <th>P1_FCV01Z</th>\n",
              "      <th>P1_FCV02D</th>\n",
              "      <th>P1_FCV02Z</th>\n",
              "      <th>P1_FCV03D</th>\n",
              "      <th>P1_FCV03Z</th>\n",
              "      <th>P1_FT01</th>\n",
              "      <th>P1_FT01Z</th>\n",
              "      <th>P1_FT02</th>\n",
              "      <th>P1_FT02Z</th>\n",
              "      <th>P1_FT03</th>\n",
              "      <th>P1_FT03Z</th>\n",
              "      <th>P1_LCV01D</th>\n",
              "      <th>P1_LCV01Z</th>\n",
              "      <th>P1_LIT01</th>\n",
              "      <th>P1_PCV01D</th>\n",
              "      <th>P1_PCV01Z</th>\n",
              "      <th>P1_PCV02D</th>\n",
              "      <th>P1_PCV02Z</th>\n",
              "      <th>P1_PIT01</th>\n",
              "      <th>P1_PIT02</th>\n",
              "      <th>P1_PP01AD</th>\n",
              "      <th>P1_PP01AR</th>\n",
              "      <th>P1_PP01BD</th>\n",
              "      <th>P1_PP01BR</th>\n",
              "      <th>P1_PP02D</th>\n",
              "      <th>P1_PP02R</th>\n",
              "      <th>P1_STSP</th>\n",
              "      <th>P1_TIT01</th>\n",
              "      <th>P1_TIT02</th>\n",
              "      <th>P2_24Vdc</th>\n",
              "      <th>...</th>\n",
              "      <th>P2_HILout</th>\n",
              "      <th>P2_MSD</th>\n",
              "      <th>P2_ManualGO</th>\n",
              "      <th>P2_OnOff</th>\n",
              "      <th>P2_RTR</th>\n",
              "      <th>P2_SIT01</th>\n",
              "      <th>P2_SIT02</th>\n",
              "      <th>P2_TripEx</th>\n",
              "      <th>P2_VT01</th>\n",
              "      <th>P2_VTR01</th>\n",
              "      <th>P2_VTR02</th>\n",
              "      <th>P2_VTR03</th>\n",
              "      <th>P2_VTR04</th>\n",
              "      <th>P2_VXT02</th>\n",
              "      <th>P2_VXT03</th>\n",
              "      <th>P2_VYT02</th>\n",
              "      <th>P2_VYT03</th>\n",
              "      <th>P3_FIT01</th>\n",
              "      <th>P3_LCP01D</th>\n",
              "      <th>P3_LCV01D</th>\n",
              "      <th>P3_LH</th>\n",
              "      <th>P3_LIT01</th>\n",
              "      <th>P3_LL</th>\n",
              "      <th>P3_PIT01</th>\n",
              "      <th>P4_HT_FD</th>\n",
              "      <th>P4_HT_LD</th>\n",
              "      <th>P4_HT_PO</th>\n",
              "      <th>P4_HT_PS</th>\n",
              "      <th>P4_LD</th>\n",
              "      <th>P4_ST_FD</th>\n",
              "      <th>P4_ST_GOV</th>\n",
              "      <th>P4_ST_LD</th>\n",
              "      <th>P4_ST_PO</th>\n",
              "      <th>P4_ST_PS</th>\n",
              "      <th>P4_ST_PT01</th>\n",
              "      <th>P4_ST_TT01</th>\n",
              "      <th>attack</th>\n",
              "      <th>attack_P1</th>\n",
              "      <th>attack_P2</th>\n",
              "      <th>attack_P3</th>\n",
              "    </tr>\n",
              "  </thead>\n",
              "  <tbody>\n",
              "    <tr>\n",
              "      <th>0</th>\n",
              "      <td>2020-07-07 15:00:00</td>\n",
              "      <td>0.10178</td>\n",
              "      <td>1.58771</td>\n",
              "      <td>403.78854</td>\n",
              "      <td>985.37353</td>\n",
              "      <td>32.59527</td>\n",
              "      <td>100.0</td>\n",
              "      <td>2839.58520</td>\n",
              "      <td>36.81010</td>\n",
              "      <td>100.0</td>\n",
              "      <td>99.91608</td>\n",
              "      <td>0.0</td>\n",
              "      <td>-1.86768</td>\n",
              "      <td>50.90726</td>\n",
              "      <td>51.95007</td>\n",
              "      <td>176.08643</td>\n",
              "      <td>845.69550</td>\n",
              "      <td>1978.72156</td>\n",
              "      <td>2843.37549</td>\n",
              "      <td>243.38802</td>\n",
              "      <td>989.14117</td>\n",
              "      <td>10.89290</td>\n",
              "      <td>10.8429</td>\n",
              "      <td>402.70947</td>\n",
              "      <td>40.74125</td>\n",
              "      <td>41.32233</td>\n",
              "      <td>12.0</td>\n",
              "      <td>12.26196</td>\n",
              "      <td>1.34293</td>\n",
              "      <td>0.27557</td>\n",
              "      <td>540833</td>\n",
              "      <td>540833</td>\n",
              "      <td>0</td>\n",
              "      <td>0</td>\n",
              "      <td>1</td>\n",
              "      <td>1</td>\n",
              "      <td>1</td>\n",
              "      <td>34.88770</td>\n",
              "      <td>35.1471</td>\n",
              "      <td>28.03162</td>\n",
              "      <td>...</td>\n",
              "      <td>725.21362</td>\n",
              "      <td>763.19324</td>\n",
              "      <td>0</td>\n",
              "      <td>1</td>\n",
              "      <td>2880</td>\n",
              "      <td>790.0</td>\n",
              "      <td>789.76508</td>\n",
              "      <td>1</td>\n",
              "      <td>11.91040</td>\n",
              "      <td>10</td>\n",
              "      <td>10</td>\n",
              "      <td>10</td>\n",
              "      <td>10</td>\n",
              "      <td>-2.8687</td>\n",
              "      <td>-1.0189</td>\n",
              "      <td>3.7751</td>\n",
              "      <td>5.6330</td>\n",
              "      <td>-25.0</td>\n",
              "      <td>688</td>\n",
              "      <td>15888</td>\n",
              "      <td>70</td>\n",
              "      <td>18082.0</td>\n",
              "      <td>20</td>\n",
              "      <td>-23.0</td>\n",
              "      <td>0.00029</td>\n",
              "      <td>76.80121</td>\n",
              "      <td>73.58581</td>\n",
              "      <td>0</td>\n",
              "      <td>464.06610</td>\n",
              "      <td>0.00470</td>\n",
              "      <td>20469.0</td>\n",
              "      <td>386.26666</td>\n",
              "      <td>380.31683</td>\n",
              "      <td>0</td>\n",
              "      <td>10044.0</td>\n",
              "      <td>27567.0</td>\n",
              "      <td>0</td>\n",
              "      <td>0</td>\n",
              "      <td>0</td>\n",
              "      <td>0</td>\n",
              "    </tr>\n",
              "    <tr>\n",
              "      <th>1</th>\n",
              "      <td>2020-07-07 15:00:01</td>\n",
              "      <td>0.10178</td>\n",
              "      <td>1.58725</td>\n",
              "      <td>403.78854</td>\n",
              "      <td>985.37353</td>\n",
              "      <td>32.59527</td>\n",
              "      <td>100.0</td>\n",
              "      <td>2843.37549</td>\n",
              "      <td>36.80895</td>\n",
              "      <td>100.0</td>\n",
              "      <td>99.91608</td>\n",
              "      <td>0.0</td>\n",
              "      <td>-1.86768</td>\n",
              "      <td>50.74607</td>\n",
              "      <td>51.96533</td>\n",
              "      <td>173.79756</td>\n",
              "      <td>840.47705</td>\n",
              "      <td>1986.92322</td>\n",
              "      <td>2845.06006</td>\n",
              "      <td>243.00656</td>\n",
              "      <td>992.62018</td>\n",
              "      <td>10.80512</td>\n",
              "      <td>10.8429</td>\n",
              "      <td>402.81174</td>\n",
              "      <td>40.86124</td>\n",
              "      <td>41.32233</td>\n",
              "      <td>12.0</td>\n",
              "      <td>12.26196</td>\n",
              "      <td>1.34216</td>\n",
              "      <td>0.27710</td>\n",
              "      <td>540833</td>\n",
              "      <td>540833</td>\n",
              "      <td>0</td>\n",
              "      <td>0</td>\n",
              "      <td>1</td>\n",
              "      <td>1</td>\n",
              "      <td>1</td>\n",
              "      <td>34.88770</td>\n",
              "      <td>35.1471</td>\n",
              "      <td>28.02301</td>\n",
              "      <td>...</td>\n",
              "      <td>721.74072</td>\n",
              "      <td>763.19324</td>\n",
              "      <td>0</td>\n",
              "      <td>1</td>\n",
              "      <td>2880</td>\n",
              "      <td>789.0</td>\n",
              "      <td>789.13147</td>\n",
              "      <td>1</td>\n",
              "      <td>11.98856</td>\n",
              "      <td>10</td>\n",
              "      <td>10</td>\n",
              "      <td>10</td>\n",
              "      <td>10</td>\n",
              "      <td>-2.9842</td>\n",
              "      <td>-1.2637</td>\n",
              "      <td>3.1689</td>\n",
              "      <td>5.4158</td>\n",
              "      <td>-25.0</td>\n",
              "      <td>648</td>\n",
              "      <td>15952</td>\n",
              "      <td>70</td>\n",
              "      <td>18043.0</td>\n",
              "      <td>20</td>\n",
              "      <td>-23.0</td>\n",
              "      <td>0.00051</td>\n",
              "      <td>76.92419</td>\n",
              "      <td>73.89325</td>\n",
              "      <td>0</td>\n",
              "      <td>464.22888</td>\n",
              "      <td>0.00210</td>\n",
              "      <td>20489.0</td>\n",
              "      <td>386.30286</td>\n",
              "      <td>380.02747</td>\n",
              "      <td>0</td>\n",
              "      <td>10040.0</td>\n",
              "      <td>27564.0</td>\n",
              "      <td>0</td>\n",
              "      <td>0</td>\n",
              "      <td>0</td>\n",
              "      <td>0</td>\n",
              "    </tr>\n",
              "    <tr>\n",
              "      <th>2</th>\n",
              "      <td>2020-07-07 15:00:02</td>\n",
              "      <td>0.10178</td>\n",
              "      <td>1.59519</td>\n",
              "      <td>403.78854</td>\n",
              "      <td>985.37353</td>\n",
              "      <td>32.59527</td>\n",
              "      <td>100.0</td>\n",
              "      <td>2845.06006</td>\n",
              "      <td>36.82879</td>\n",
              "      <td>100.0</td>\n",
              "      <td>99.91608</td>\n",
              "      <td>0.0</td>\n",
              "      <td>-1.86768</td>\n",
              "      <td>50.66229</td>\n",
              "      <td>51.96533</td>\n",
              "      <td>174.56052</td>\n",
              "      <td>835.25842</td>\n",
              "      <td>1978.72156</td>\n",
              "      <td>2837.33911</td>\n",
              "      <td>242.81586</td>\n",
              "      <td>993.92468</td>\n",
              "      <td>10.80029</td>\n",
              "      <td>10.8429</td>\n",
              "      <td>402.76062</td>\n",
              "      <td>41.02906</td>\n",
              "      <td>41.32233</td>\n",
              "      <td>12.0</td>\n",
              "      <td>12.26196</td>\n",
              "      <td>1.34369</td>\n",
              "      <td>0.27710</td>\n",
              "      <td>540833</td>\n",
              "      <td>540833</td>\n",
              "      <td>0</td>\n",
              "      <td>0</td>\n",
              "      <td>1</td>\n",
              "      <td>1</td>\n",
              "      <td>1</td>\n",
              "      <td>34.88770</td>\n",
              "      <td>35.1471</td>\n",
              "      <td>28.02993</td>\n",
              "      <td>...</td>\n",
              "      <td>718.15796</td>\n",
              "      <td>763.19324</td>\n",
              "      <td>0</td>\n",
              "      <td>1</td>\n",
              "      <td>2880</td>\n",
              "      <td>786.0</td>\n",
              "      <td>785.81653</td>\n",
              "      <td>1</td>\n",
              "      <td>11.97400</td>\n",
              "      <td>10</td>\n",
              "      <td>10</td>\n",
              "      <td>10</td>\n",
              "      <td>10</td>\n",
              "      <td>-3.4939</td>\n",
              "      <td>-1.5398</td>\n",
              "      <td>2.9615</td>\n",
              "      <td>5.5532</td>\n",
              "      <td>-25.0</td>\n",
              "      <td>616</td>\n",
              "      <td>16000</td>\n",
              "      <td>70</td>\n",
              "      <td>18024.0</td>\n",
              "      <td>20</td>\n",
              "      <td>-23.0</td>\n",
              "      <td>0.00022</td>\n",
              "      <td>77.04715</td>\n",
              "      <td>74.20068</td>\n",
              "      <td>0</td>\n",
              "      <td>466.90533</td>\n",
              "      <td>0.00130</td>\n",
              "      <td>20604.0</td>\n",
              "      <td>389.73883</td>\n",
              "      <td>381.52850</td>\n",
              "      <td>0</td>\n",
              "      <td>10037.0</td>\n",
              "      <td>27565.0</td>\n",
              "      <td>0</td>\n",
              "      <td>0</td>\n",
              "      <td>0</td>\n",
              "      <td>0</td>\n",
              "    </tr>\n",
              "    <tr>\n",
              "      <th>3</th>\n",
              "      <td>2020-07-07 15:00:03</td>\n",
              "      <td>0.10178</td>\n",
              "      <td>1.59747</td>\n",
              "      <td>403.78854</td>\n",
              "      <td>985.37353</td>\n",
              "      <td>32.59527</td>\n",
              "      <td>100.0</td>\n",
              "      <td>2837.33911</td>\n",
              "      <td>36.83451</td>\n",
              "      <td>100.0</td>\n",
              "      <td>99.91608</td>\n",
              "      <td>0.0</td>\n",
              "      <td>-1.86768</td>\n",
              "      <td>50.66462</td>\n",
              "      <td>51.98822</td>\n",
              "      <td>176.65860</td>\n",
              "      <td>836.99799</td>\n",
              "      <td>1977.76782</td>\n",
              "      <td>2843.37549</td>\n",
              "      <td>242.43439</td>\n",
              "      <td>993.05493</td>\n",
              "      <td>10.80579</td>\n",
              "      <td>10.8429</td>\n",
              "      <td>402.81174</td>\n",
              "      <td>41.15958</td>\n",
              "      <td>41.32233</td>\n",
              "      <td>12.0</td>\n",
              "      <td>12.26196</td>\n",
              "      <td>1.34445</td>\n",
              "      <td>0.27557</td>\n",
              "      <td>540833</td>\n",
              "      <td>540833</td>\n",
              "      <td>0</td>\n",
              "      <td>0</td>\n",
              "      <td>1</td>\n",
              "      <td>1</td>\n",
              "      <td>1</td>\n",
              "      <td>34.88770</td>\n",
              "      <td>35.1471</td>\n",
              "      <td>28.02993</td>\n",
              "      <td>...</td>\n",
              "      <td>716.38794</td>\n",
              "      <td>763.19324</td>\n",
              "      <td>0</td>\n",
              "      <td>1</td>\n",
              "      <td>2880</td>\n",
              "      <td>785.0</td>\n",
              "      <td>785.42438</td>\n",
              "      <td>1</td>\n",
              "      <td>11.92999</td>\n",
              "      <td>10</td>\n",
              "      <td>10</td>\n",
              "      <td>10</td>\n",
              "      <td>10</td>\n",
              "      <td>-3.8188</td>\n",
              "      <td>-1.6212</td>\n",
              "      <td>3.1285</td>\n",
              "      <td>5.7833</td>\n",
              "      <td>-25.0</td>\n",
              "      <td>584</td>\n",
              "      <td>16064</td>\n",
              "      <td>70</td>\n",
              "      <td>17985.0</td>\n",
              "      <td>20</td>\n",
              "      <td>-23.0</td>\n",
              "      <td>0.00022</td>\n",
              "      <td>77.17014</td>\n",
              "      <td>74.43579</td>\n",
              "      <td>0</td>\n",
              "      <td>466.79688</td>\n",
              "      <td>0.00000</td>\n",
              "      <td>20633.0</td>\n",
              "      <td>388.94311</td>\n",
              "      <td>382.08911</td>\n",
              "      <td>0</td>\n",
              "      <td>10040.0</td>\n",
              "      <td>27560.0</td>\n",
              "      <td>0</td>\n",
              "      <td>0</td>\n",
              "      <td>0</td>\n",
              "      <td>0</td>\n",
              "    </tr>\n",
              "    <tr>\n",
              "      <th>4</th>\n",
              "      <td>2020-07-07 15:00:04</td>\n",
              "      <td>0.10178</td>\n",
              "      <td>1.59869</td>\n",
              "      <td>403.78854</td>\n",
              "      <td>985.37353</td>\n",
              "      <td>32.59527</td>\n",
              "      <td>100.0</td>\n",
              "      <td>2843.37549</td>\n",
              "      <td>36.83756</td>\n",
              "      <td>100.0</td>\n",
              "      <td>99.90845</td>\n",
              "      <td>0.0</td>\n",
              "      <td>-1.86768</td>\n",
              "      <td>50.65214</td>\n",
              "      <td>51.90429</td>\n",
              "      <td>175.89565</td>\n",
              "      <td>841.78162</td>\n",
              "      <td>1972.42725</td>\n",
              "      <td>2837.33911</td>\n",
              "      <td>242.81586</td>\n",
              "      <td>992.62018</td>\n",
              "      <td>10.81415</td>\n",
              "      <td>10.8429</td>\n",
              "      <td>402.91394</td>\n",
              "      <td>41.28887</td>\n",
              "      <td>41.21552</td>\n",
              "      <td>12.0</td>\n",
              "      <td>12.26196</td>\n",
              "      <td>1.34293</td>\n",
              "      <td>0.27710</td>\n",
              "      <td>540833</td>\n",
              "      <td>540833</td>\n",
              "      <td>0</td>\n",
              "      <td>0</td>\n",
              "      <td>1</td>\n",
              "      <td>1</td>\n",
              "      <td>1</td>\n",
              "      <td>34.90295</td>\n",
              "      <td>35.1471</td>\n",
              "      <td>28.02990</td>\n",
              "      <td>...</td>\n",
              "      <td>714.66675</td>\n",
              "      <td>763.19324</td>\n",
              "      <td>0</td>\n",
              "      <td>1</td>\n",
              "      <td>2880</td>\n",
              "      <td>783.0</td>\n",
              "      <td>782.99249</td>\n",
              "      <td>1</td>\n",
              "      <td>11.86934</td>\n",
              "      <td>10</td>\n",
              "      <td>10</td>\n",
              "      <td>10</td>\n",
              "      <td>10</td>\n",
              "      <td>-3.9858</td>\n",
              "      <td>-1.5631</td>\n",
              "      <td>3.4986</td>\n",
              "      <td>6.0309</td>\n",
              "      <td>-25.0</td>\n",
              "      <td>552</td>\n",
              "      <td>16112</td>\n",
              "      <td>70</td>\n",
              "      <td>17954.0</td>\n",
              "      <td>20</td>\n",
              "      <td>-23.0</td>\n",
              "      <td>0.00000</td>\n",
              "      <td>77.29312</td>\n",
              "      <td>74.74322</td>\n",
              "      <td>0</td>\n",
              "      <td>467.88190</td>\n",
              "      <td>-0.00043</td>\n",
              "      <td>20738.0</td>\n",
              "      <td>389.72082</td>\n",
              "      <td>383.44543</td>\n",
              "      <td>0</td>\n",
              "      <td>10042.0</td>\n",
              "      <td>27564.0</td>\n",
              "      <td>0</td>\n",
              "      <td>0</td>\n",
              "      <td>0</td>\n",
              "      <td>0</td>\n",
              "    </tr>\n",
              "  </tbody>\n",
              "</table>\n",
              "<p>5 rows × 84 columns</p>\n",
              "</div>\n",
              "      <button class=\"colab-df-convert\" onclick=\"convertToInteractive('df-01f92473-fcc1-4e6b-92ec-3bc6c44a143f')\"\n",
              "              title=\"Convert this dataframe to an interactive table.\"\n",
              "              style=\"display:none;\">\n",
              "        \n",
              "  <svg xmlns=\"http://www.w3.org/2000/svg\" height=\"24px\"viewBox=\"0 0 24 24\"\n",
              "       width=\"24px\">\n",
              "    <path d=\"M0 0h24v24H0V0z\" fill=\"none\"/>\n",
              "    <path d=\"M18.56 5.44l.94 2.06.94-2.06 2.06-.94-2.06-.94-.94-2.06-.94 2.06-2.06.94zm-11 1L8.5 8.5l.94-2.06 2.06-.94-2.06-.94L8.5 2.5l-.94 2.06-2.06.94zm10 10l.94 2.06.94-2.06 2.06-.94-2.06-.94-.94-2.06-.94 2.06-2.06.94z\"/><path d=\"M17.41 7.96l-1.37-1.37c-.4-.4-.92-.59-1.43-.59-.52 0-1.04.2-1.43.59L10.3 9.45l-7.72 7.72c-.78.78-.78 2.05 0 2.83L4 21.41c.39.39.9.59 1.41.59.51 0 1.02-.2 1.41-.59l7.78-7.78 2.81-2.81c.8-.78.8-2.07 0-2.86zM5.41 20L4 18.59l7.72-7.72 1.47 1.35L5.41 20z\"/>\n",
              "  </svg>\n",
              "      </button>\n",
              "      \n",
              "  <style>\n",
              "    .colab-df-container {\n",
              "      display:flex;\n",
              "      flex-wrap:wrap;\n",
              "      gap: 12px;\n",
              "    }\n",
              "\n",
              "    .colab-df-convert {\n",
              "      background-color: #E8F0FE;\n",
              "      border: none;\n",
              "      border-radius: 50%;\n",
              "      cursor: pointer;\n",
              "      display: none;\n",
              "      fill: #1967D2;\n",
              "      height: 32px;\n",
              "      padding: 0 0 0 0;\n",
              "      width: 32px;\n",
              "    }\n",
              "\n",
              "    .colab-df-convert:hover {\n",
              "      background-color: #E2EBFA;\n",
              "      box-shadow: 0px 1px 2px rgba(60, 64, 67, 0.3), 0px 1px 3px 1px rgba(60, 64, 67, 0.15);\n",
              "      fill: #174EA6;\n",
              "    }\n",
              "\n",
              "    [theme=dark] .colab-df-convert {\n",
              "      background-color: #3B4455;\n",
              "      fill: #D2E3FC;\n",
              "    }\n",
              "\n",
              "    [theme=dark] .colab-df-convert:hover {\n",
              "      background-color: #434B5C;\n",
              "      box-shadow: 0px 1px 3px 1px rgba(0, 0, 0, 0.15);\n",
              "      filter: drop-shadow(0px 1px 2px rgba(0, 0, 0, 0.3));\n",
              "      fill: #FFFFFF;\n",
              "    }\n",
              "  </style>\n",
              "\n",
              "      <script>\n",
              "        const buttonEl =\n",
              "          document.querySelector('#df-01f92473-fcc1-4e6b-92ec-3bc6c44a143f button.colab-df-convert');\n",
              "        buttonEl.style.display =\n",
              "          google.colab.kernel.accessAllowed ? 'block' : 'none';\n",
              "\n",
              "        async function convertToInteractive(key) {\n",
              "          const element = document.querySelector('#df-01f92473-fcc1-4e6b-92ec-3bc6c44a143f');\n",
              "          const dataTable =\n",
              "            await google.colab.kernel.invokeFunction('convertToInteractive',\n",
              "                                                     [key], {});\n",
              "          if (!dataTable) return;\n",
              "\n",
              "          const docLinkHtml = 'Like what you see? Visit the ' +\n",
              "            '<a target=\"_blank\" href=https://colab.research.google.com/notebooks/data_table.ipynb>data table notebook</a>'\n",
              "            + ' to learn more about interactive tables.';\n",
              "          element.innerHTML = '';\n",
              "          dataTable['output_type'] = 'display_data';\n",
              "          await google.colab.output.renderOutput(dataTable, element);\n",
              "          const docLink = document.createElement('div');\n",
              "          docLink.innerHTML = docLinkHtml;\n",
              "          element.appendChild(docLink);\n",
              "        }\n",
              "      </script>\n",
              "    </div>\n",
              "  </div>\n",
              "  "
            ],
            "text/plain": [
              "                  time  P1_B2004  P1_B2016  ...  attack_P1  attack_P2  attack_P3\n",
              "0  2020-07-07 15:00:00   0.10178   1.58771  ...          0          0          0\n",
              "1  2020-07-07 15:00:01   0.10178   1.58725  ...          0          0          0\n",
              "2  2020-07-07 15:00:02   0.10178   1.59519  ...          0          0          0\n",
              "3  2020-07-07 15:00:03   0.10178   1.59747  ...          0          0          0\n",
              "4  2020-07-07 15:00:04   0.10178   1.59869  ...          0          0          0\n",
              "\n",
              "[5 rows x 84 columns]"
            ]
          },
          "metadata": {},
          "execution_count": 3
        }
      ]
    },
    {
      "cell_type": "code",
      "source": [
        "test_attack = testFrame[testFrame['attack']== 1]\n",
        "test_normal = testFrame[testFrame['attack']== 0] #.sample(2500)"
      ],
      "metadata": {
        "id": "lm2-D_nyc3bA"
      },
      "execution_count": null,
      "outputs": []
    },
    {
      "cell_type": "code",
      "source": [
        "test_attack = test_attack.values\n",
        "test_attack"
      ],
      "metadata": {
        "colab": {
          "base_uri": "https://localhost:8080/"
        },
        "id": "lPKDXHe5tOJt",
        "outputId": "bde56dd0-abf0-4f00-bc85-44cbe2ab799a"
      },
      "execution_count": null,
      "outputs": [
        {
          "output_type": "execute_result",
          "data": {
            "text/plain": [
              "array([['2020-07-07 15:35:11', 0.10178, 1.47693, ..., 1, 0, 0],\n",
              "       ['2020-07-07 15:35:12', 0.10178, 1.4809, ..., 1, 0, 0],\n",
              "       ['2020-07-07 15:35:13', 0.10178, 1.48212, ..., 1, 0, 0],\n",
              "       ...,\n",
              "       ['2020-07-07 21:04:47', 0.10177, 1.32876, ..., 0, 1, 0],\n",
              "       ['2020-07-07 21:04:48', 0.10177, 1.3428, ..., 0, 1, 0],\n",
              "       ['2020-07-07 21:04:49', 0.10177, 1.34615, ..., 0, 1, 0]],\n",
              "      dtype=object)"
            ]
          },
          "metadata": {},
          "execution_count": 5
        }
      ]
    },
    {
      "cell_type": "code",
      "source": [
        "train_data = raw_data[:,1:-4] #without the time\n",
        "train_data"
      ],
      "metadata": {
        "colab": {
          "base_uri": "https://localhost:8080/"
        },
        "id": "jydRSyLY9zGW",
        "outputId": "7d2ba0f3-fb0d-46d4-dd25-08b9cf1cdc73"
      },
      "execution_count": null,
      "outputs": [
        {
          "output_type": "execute_result",
          "data": {
            "text/plain": [
              "array([[0.10121, 1.29784, 397.63785, ..., 0, 10052.0, 27610.0],\n",
              "       [0.10121, 1.29692, 397.63785, ..., 0, 10052.0, 27610.0],\n",
              "       [0.10121, 1.29631, 397.63785, ..., 0, 10050.0, 27617.0],\n",
              "       ...,\n",
              "       [0.09879, 1.37415, 381.97888, ..., 0, 10053.0, 27627.0],\n",
              "       [0.09879, 1.37567, 381.97888, ..., 0, 10051.0, 27627.0],\n",
              "       [0.09879, 1.37949, 381.97888, ..., 0, 10053.0, 27627.0]],\n",
              "      dtype=object)"
            ]
          },
          "metadata": {},
          "execution_count": 6
        }
      ]
    },
    {
      "cell_type": "code",
      "source": [
        "#test data\n",
        "test_data = test_raw_data[:,1:-4] #without the time\n",
        "test_data"
      ],
      "metadata": {
        "colab": {
          "base_uri": "https://localhost:8080/"
        },
        "id": "9OtUvVJh9DTs",
        "outputId": "545fcf2c-becc-4873-f976-a5f5f5a10e3b"
      },
      "execution_count": null,
      "outputs": [
        {
          "output_type": "execute_result",
          "data": {
            "text/plain": [
              "array([[0.10178, 1.58771, 403.78854, ..., 0, 10044.0, 27567.0],\n",
              "       [0.10178, 1.58725, 403.78854, ..., 0, 10040.0, 27564.0],\n",
              "       [0.10178, 1.59519, 403.78854, ..., 0, 10037.0, 27565.0],\n",
              "       ...,\n",
              "       [0.10109, 1.61815, 395.43826, ..., 50, 10052.0, 27599.0],\n",
              "       [0.10109, 1.62609, 395.43826, ..., 50, 10053.0, 27603.0],\n",
              "       [0.10109, 1.63081, 395.43826, ..., 50, 10053.0, 27595.0]],\n",
              "      dtype=object)"
            ]
          },
          "metadata": {},
          "execution_count": 7
        }
      ]
    },
    {
      "cell_type": "code",
      "source": [
        "test_attack = test_attack[:,1:-4] #without the time\n",
        "test_attack"
      ],
      "metadata": {
        "colab": {
          "base_uri": "https://localhost:8080/"
        },
        "id": "uwdZ3EhMCDVz",
        "outputId": "1a621b25-170f-49bd-ba3c-38edf57277eb"
      },
      "execution_count": null,
      "outputs": [
        {
          "output_type": "execute_result",
          "data": {
            "text/plain": [
              "array([[0.10178, 1.47693, 403.78854, ..., 0, 10076.0, 27627.0],\n",
              "       [0.10178, 1.4809, 403.78854, ..., 0, 10053.0, 27627.0],\n",
              "       [0.10178, 1.48212, 403.78854, ..., 0, 10053.0, 27627.0],\n",
              "       ...,\n",
              "       [0.10177, 1.32876, 394.21475, ..., 0, 10053.0, 27605.0],\n",
              "       [0.10177, 1.3428, 394.21475, ..., 0, 10053.0, 27600.0],\n",
              "       [0.10177, 1.34615, 394.21475, ..., 0, 10053.0, 27603.0]],\n",
              "      dtype=object)"
            ]
          },
          "metadata": {},
          "execution_count": 8
        }
      ]
    },
    {
      "cell_type": "code",
      "source": [
        "labels = dataframe['attack']\n",
        "# labels = raw_data[:,-4]\n",
        "labels"
      ],
      "metadata": {
        "colab": {
          "base_uri": "https://localhost:8080/"
        },
        "id": "pqo-c4wW7c-8",
        "outputId": "5260300c-7371-4332-8b09-d9ecfbcd49d4"
      },
      "execution_count": null,
      "outputs": [
        {
          "output_type": "execute_result",
          "data": {
            "text/plain": [
              "0         0\n",
              "1         0\n",
              "2         0\n",
              "3         0\n",
              "4         0\n",
              "         ..\n",
              "215996    0\n",
              "215997    0\n",
              "215998    0\n",
              "215999    0\n",
              "216000    0\n",
              "Name: attack, Length: 216001, dtype: int64"
            ]
          },
          "metadata": {},
          "execution_count": 9
        }
      ]
    },
    {
      "cell_type": "code",
      "source": [
        "test_labels = testFrame['attack']\n",
        "test_labels"
      ],
      "metadata": {
        "colab": {
          "base_uri": "https://localhost:8080/"
        },
        "id": "OS3DPiGPQDkk",
        "outputId": "0f354a32-a429-4fdc-eb1f-2089c83591e4"
      },
      "execution_count": null,
      "outputs": [
        {
          "output_type": "execute_result",
          "data": {
            "text/plain": [
              "0        0\n",
              "1        0\n",
              "2        0\n",
              "3        0\n",
              "4        0\n",
              "        ..\n",
              "43196    0\n",
              "43197    0\n",
              "43198    0\n",
              "43199    0\n",
              "43200    0\n",
              "Name: attack, Length: 43201, dtype: int64"
            ]
          },
          "metadata": {},
          "execution_count": 10
        }
      ]
    },
    {
      "cell_type": "markdown",
      "source": [
        "Normalizing the data to be between 0 and 1"
      ],
      "metadata": {
        "id": "3F6nfJgy10KI"
      }
    },
    {
      "cell_type": "code",
      "source": [
        "train_data_normalized = MinMaxScaler().fit_transform(train_data)\n",
        "#test\n",
        "test_data_normalized = MinMaxScaler().fit_transform(test_data)\n",
        "#test anomalous data\n",
        "test_attack_normalized = MinMaxScaler().fit_transform(test_attack)"
      ],
      "metadata": {
        "id": "BcsD79Lq1RRT"
      },
      "execution_count": null,
      "outputs": []
    },
    {
      "cell_type": "code",
      "source": [
        "# train_data_normalized\n",
        "# len(train_data_normalized[0])\n",
        "test_attack_normalized"
      ],
      "metadata": {
        "colab": {
          "base_uri": "https://localhost:8080/"
        },
        "id": "5CFjxadq1ezr",
        "outputId": "7f15af07-387d-4aae-937d-d0fad40ef793"
      },
      "execution_count": null,
      "outputs": [
        {
          "output_type": "execute_result",
          "data": {
            "text/plain": [
              "array([[1.        , 0.60492103, 0.77219816, ..., 0.        , 0.51532567,\n",
              "        1.        ],\n",
              "       [1.        , 0.61211945, 0.77219816, ..., 0.        , 0.47126437,\n",
              "        1.        ],\n",
              "       [1.        , 0.61433156, 0.77219816, ..., 0.        , 0.47126437,\n",
              "        1.        ],\n",
              "       ...,\n",
              "       [0.99224806, 0.33625864, 0.        , ..., 0.        , 0.47126437,\n",
              "        0.29032258],\n",
              "       [0.99224806, 0.36171602, 0.        , ..., 0.        , 0.47126437,\n",
              "        0.12903226],\n",
              "       [0.99224806, 0.36779025, 0.        , ..., 0.        , 0.47126437,\n",
              "        0.22580645]])"
            ]
          },
          "metadata": {},
          "execution_count": 15
        }
      ]
    },
    {
      "cell_type": "code",
      "source": [
        "plt.grid()\n",
        "plt.plot(np.arange(79), train_data_normalized[35])\n",
        "plt.title(\"A normal data form\")\n",
        "plt.show"
      ],
      "metadata": {
        "id": "uT7-fKPREd3c",
        "colab": {
          "base_uri": "https://localhost:8080/",
          "height": 298
        },
        "outputId": "ed4f3395-6a80-410f-c9f4-a430609e12b8"
      },
      "execution_count": null,
      "outputs": [
        {
          "output_type": "execute_result",
          "data": {
            "text/plain": [
              "<function matplotlib.pyplot.show>"
            ]
          },
          "metadata": {},
          "execution_count": 13
        },
        {
          "output_type": "display_data",
          "data": {
            "image/png": "[encoded data removed]",
            "text/plain": [
              "<Figure size 432x288 with 1 Axes>"
            ]
          },
          "metadata": {
            "needs_background": "light"
          }
        }
      ]
    },
    {
      "cell_type": "code",
      "source": [
        "plt.grid()\n",
        "# test_data_normalized[2234]\n",
        "# test_attack[24]\n",
        "plt.plot(np.arange(79), test_data_normalized[0])\n",
        "plt.title(\"A bad data form\")\n",
        "plt.show"
      ],
      "metadata": {
        "colab": {
          "base_uri": "https://localhost:8080/",
          "height": 298
        },
        "id": "ig5UYn0HUPjA",
        "outputId": "cc30350a-588a-4818-962d-6794c36e18b8"
      },
      "execution_count": null,
      "outputs": [
        {
          "output_type": "execute_result",
          "data": {
            "text/plain": [
              "<function matplotlib.pyplot.show>"
            ]
          },
          "metadata": {},
          "execution_count": 17
        },
        {
          "output_type": "display_data",
          "data": {
            "image/png": "[encoded data removed]",
            "text/plain": [
              "<Figure size 432x288 with 1 Axes>"
            ]
          },
          "metadata": {
            "needs_background": "light"
          }
        }
      ]
    },
    {
      "cell_type": "code",
      "source": [
        "#The autoencoder\n",
        "class Anomaly(Model):\n",
        "  def __init__(self):\n",
        "    super(Anomaly, self).__init__()\n",
        "    self.encoder = Sequential([\n",
        "                               Dense(32, activation='relu'),\n",
        "                               Dense(16, activation='relu'),\n",
        "                               Dense(8, activation='relu')\n",
        "    ])\n",
        "\n",
        "    self.decoder = Sequential([\n",
        "                               Dense(8, activation='relu'),\n",
        "                               Dense(16, activation='relu'),\n",
        "                               Dense(32, activation='relu'),\n",
        "                               Dense(79, activation='sigmoid')\n",
        "    ])\n",
        "\n",
        "  def call(self, x):\n",
        "    encoded = self.encoder(x)\n",
        "    decoded = self.decoder(encoded)\n",
        "    return decoded\n",
        "\n",
        "autoencoder= Anomaly()"
      ],
      "metadata": {
        "id": "7mOa4gqE19xJ"
      },
      "execution_count": null,
      "outputs": []
    },
    {
      "cell_type": "code",
      "source": [
        "autoencoder.compile(optimizer='adam',\n",
        "loss='mae')\n",
        "#,metrics=['accuracy']"
      ],
      "metadata": {
        "id": "idEMV2367C8y"
      },
      "execution_count": null,
      "outputs": []
    },
    {
      "cell_type": "code",
      "source": [
        "#training the model\n",
        "history = autoencoder.fit(train_data_normalized, train_data_normalized,\n",
        "                    epochs=20,validation_data=(test_data_normalized, test_data_normalized),\n",
        "                    shuffle=True)"
      ],
      "metadata": {
        "colab": {
          "base_uri": "https://localhost:8080/"
        },
        "id": "iIQeX7B_7S0D",
        "outputId": "18adca3b-a525-48f9-cc18-03f0aa90c3a4"
      },
      "execution_count": null,
      "outputs": [
        {
          "output_type": "stream",
          "name": "stdout",
          "text": [
            "Epoch 1/20\n",
            "6751/6751 [==============================] - 19s 3ms/step - loss: 0.0604 - val_loss: 0.1118\n",
            "Epoch 2/20\n",
            "6751/6751 [==============================] - 29s 4ms/step - loss: 0.0449 - val_loss: 0.1089\n",
            "Epoch 3/20\n",
            "6751/6751 [==============================] - 22s 3ms/step - loss: 0.0406 - val_loss: 0.1044\n",
            "Epoch 4/20\n",
            "6751/6751 [==============================] - 16s 2ms/step - loss: 0.0375 - val_loss: 0.1026\n",
            "Epoch 5/20\n",
            "6751/6751 [==============================] - 15s 2ms/step - loss: 0.0363 - val_loss: 0.1056\n",
            "Epoch 6/20\n",
            "6751/6751 [==============================] - 16s 2ms/step - loss: 0.0356 - val_loss: 0.1043\n",
            "Epoch 7/20\n",
            "6751/6751 [==============================] - 15s 2ms/step - loss: 0.0351 - val_loss: 0.1044\n",
            "Epoch 8/20\n",
            "6751/6751 [==============================] - 15s 2ms/step - loss: 0.0348 - val_loss: 0.1021\n",
            "Epoch 9/20\n",
            "6751/6751 [==============================] - 16s 2ms/step - loss: 0.0346 - val_loss: 0.1026\n",
            "Epoch 10/20\n",
            "6751/6751 [==============================] - 16s 2ms/step - loss: 0.0343 - val_loss: 0.1014\n",
            "Epoch 11/20\n",
            "6751/6751 [==============================] - 17s 3ms/step - loss: 0.0342 - val_loss: 0.1004\n",
            "Epoch 12/20\n",
            "6751/6751 [==============================] - 15s 2ms/step - loss: 0.0341 - val_loss: 0.1003\n",
            "Epoch 13/20\n",
            "6751/6751 [==============================] - 16s 2ms/step - loss: 0.0339 - val_loss: 0.1003\n",
            "Epoch 14/20\n",
            "6751/6751 [==============================] - 17s 3ms/step - loss: 0.0337 - val_loss: 0.1019\n",
            "Epoch 15/20\n",
            "6751/6751 [==============================] - 16s 2ms/step - loss: 0.0334 - val_loss: 0.1025\n",
            "Epoch 16/20\n",
            "6751/6751 [==============================] - 15s 2ms/step - loss: 0.0331 - val_loss: 0.1014\n",
            "Epoch 17/20\n",
            "6751/6751 [==============================] - 16s 2ms/step - loss: 0.0329 - val_loss: 0.1026\n",
            "Epoch 18/20\n",
            "6751/6751 [==============================] - 16s 2ms/step - loss: 0.0328 - val_loss: 0.1029\n",
            "Epoch 19/20\n",
            "6751/6751 [==============================] - 15s 2ms/step - loss: 0.0326 - val_loss: 0.1039\n",
            "Epoch 20/20\n",
            "6751/6751 [==============================] - 15s 2ms/step - loss: 0.0325 - val_loss: 0.1036\n"
          ]
        }
      ]
    },
    {
      "cell_type": "code",
      "source": [
        "plt.plot(history.history[\"loss\"], label=\"training loss\")\n",
        "plt.plot(history.history[\"val_loss\"], label=\"validation loss\")\n",
        "plt.legend()\n"
      ],
      "metadata": {
        "colab": {
          "base_uri": "https://localhost:8080/",
          "height": 282
        },
        "id": "9fXaIP7dRlM8",
        "outputId": "b866f47e-8888-41ec-9ad3-a06c18db5195"
      },
      "execution_count": null,
      "outputs": [
        {
          "output_type": "execute_result",
          "data": {
            "text/plain": [
              "<matplotlib.legend.Legend at 0x7f177dc43b90>"
            ]
          },
          "metadata": {},
          "execution_count": 21
        },
        {
          "output_type": "display_data",
          "data": {
            "image/png": "[encoded data removed]",
            "text/plain": [
              "<Figure size 432x288 with 1 Axes>"
            ]
          },
          "metadata": {
            "needs_background": "light"
          }
        }
      ]
    },
    {
      "cell_type": "markdown",
      "source": [
        "Here, as we see, there is a big difference between normal and compromised data. Or detecting anomalies is exactly what we are looking for.\n"
      ],
      "metadata": {
        "id": "qhcrsB_b7RD8"
      }
    },
    {
      "cell_type": "code",
      "source": [
        "train_data_normalized = np.asarray(train_data_normalized).astype('float32')\n",
        "# test_attack = np.array(test_attack) \n",
        "encoded_img = autoencoder.encoder(train_data_normalized)\n",
        "decoded_img = autoencoder.decoder(encoded_img)\n",
        "\n",
        "plt.plot(train_data_normalized[0], 'b')\n",
        "plt.plot(decoded_img[0], 'r')\n",
        "plt.fill_between(np.arange(79),decoded_img[0], train_data_normalized[0], color='lightcoral')\n",
        "plt.legend(labels=[\"Input\", \"Reconstruction\", \"Error\"])\n",
        "plt.show()\n",
        "# test_attack[0]"
      ],
      "metadata": {
        "colab": {
          "base_uri": "https://localhost:8080/",
          "height": 265
        },
        "id": "y9UNiFaMCn0O",
        "outputId": "64cc772c-8a18-46a4-c0f9-0675e0cb3172"
      },
      "execution_count": null,
      "outputs": [
        {
          "output_type": "display_data",
          "data": {
            "image/png": "[encoded data removed]",
            "text/plain": [
              "<Figure size 432x288 with 1 Axes>"
            ]
          },
          "metadata": {
            "needs_background": "light"
          }
        }
      ]
    },
    {
      "cell_type": "code",
      "source": [
        "#for anomalous data, let see if the error is higher\n",
        "# test_data_normalized = np.asarray(test_data_normalized).astype('float32')\n",
        "# test_attack = np.array(test_attack)\n",
        "# trying test_data_normalized instead of test_attack\n",
        "test_attack = np.asarray(test_data_normalized).astype('float32')\n",
        "encoded_attack_img = autoencoder.encoder(test_attack)\n",
        "decoded_attack_img = autoencoder.decoder(encoded_attack_img)\n",
        "\n",
        "plt.plot(test_attack[0], 'b')\n",
        "plt.plot(decoded_attack_img[0], 'y')\n",
        "plt.fill_between(np.arange(79),decoded_attack_img[0], test_data_normalized[0], color='lightcoral')\n",
        "plt.legend(labels=[\"Input\", \"Reconstruction\", \"Error\"])\n",
        "plt.show()\n"
      ],
      "metadata": {
        "colab": {
          "base_uri": "https://localhost:8080/",
          "height": 265
        },
        "id": "G2JQtw6FMPWt",
        "outputId": "145b4960-b56d-42c9-db6e-ac37cc1a04be"
      },
      "execution_count": null,
      "outputs": [
        {
          "output_type": "display_data",
          "data": {
            "image/png": "[encoded data removed]",
            "text/plain": [
              "<Figure size 432x288 with 1 Axes>"
            ]
          },
          "metadata": {
            "needs_background": "light"
          }
        }
      ]
    },
    {
      "cell_type": "markdown",
      "source": [
        "As we can see at the graph, our model tries to recostruct the anomalous data but with a very high error rate"
      ],
      "metadata": {
        "id": "hrBNJKWOOSfd"
      }
    },
    {
      "cell_type": "code",
      "source": [
        "reconstructions = autoencoder.predict(train_data_normalized)\n",
        "train_loss = tf.keras.losses.mae(reconstructions, train_data_normalized)"
      ],
      "metadata": {
        "id": "q5eQmdrRO4jr"
      },
      "execution_count": null,
      "outputs": []
    },
    {
      "cell_type": "markdown",
      "source": [
        "standard deviation"
      ],
      "metadata": {
        "id": "flRiSJ5gRxim"
      }
    },
    {
      "cell_type": "code",
      "source": [
        "threshold = np.mean(train_loss) + np.std(train_loss)\n",
        "print(\"Threshold: \", threshold)"
      ],
      "metadata": {
        "colab": {
          "base_uri": "https://localhost:8080/"
        },
        "id": "BO2cmVUsRXPF",
        "outputId": "c1fbfca5-c5a0-4f88-b36a-112989c21696"
      },
      "execution_count": null,
      "outputs": [
        {
          "output_type": "stream",
          "name": "stdout",
          "text": [
            "Threshold:  0.043798376\n"
          ]
        }
      ]
    },
    {
      "cell_type": "code",
      "source": [
        "def predict(model, data, threashold):\n",
        "  reconstructions = model(data)\n",
        "  loss = tf.keras.losses.mae(reconstructions, data)\n",
        "  return tf.math.less(loss, threashold)\n",
        "\n",
        "def print_states(prediction, labels):\n",
        "  print(\"Accuracy = {}\".format(accuracy_score(labels, prediction)))"
      ],
      "metadata": {
        "id": "FrQUVrAzOFjn"
      },
      "execution_count": null,
      "outputs": []
    },
    {
      "cell_type": "code",
      "source": [
        "preds = predict(autoencoder, test_data_normalized, threshold)\n",
        "print_states(preds, test_labels)"
      ],
      "metadata": {
        "colab": {
          "base_uri": "https://localhost:8080/"
        },
        "id": "EiHBDkNtO3_S",
        "outputId": "f40c0d6b-f449-440d-bce3-0b339a801f1d"
      },
      "execution_count": null,
      "outputs": [
        {
          "output_type": "stream",
          "name": "stdout",
          "text": [
            "Accuracy = 0.9854401518483369\n"
          ]
        }
      ]
    }
  ]
}